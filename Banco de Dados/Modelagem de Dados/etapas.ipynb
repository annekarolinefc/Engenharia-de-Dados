{
 "cells": [
  {
   "cell_type": "markdown",
   "metadata": {},
   "source": [
    "# Modelagem de Banco de Dados"
   ]
  },
  {
   "cell_type": "markdown",
   "metadata": {},
   "source": [
    "https://www.youtube.com/watch?v=UZcaZD5VG0g"
   ]
  },
  {
   "cell_type": "markdown",
   "metadata": {},
   "source": [
    "Etapas:\n",
    "*    Entendimento do Problema\n",
    "*    Modelo Entidade Relacionamento (MER)\n",
    "*    Diagrama Entidade Relacionamento (DER)\n",
    "*    Definição das Cardinalidades (N:N)\n",
    "*    Definição do Modelo Logico\n",
    "*    Normalização das Tabelas\n",
    "*    Dicionário de Dados\n",
    "*    Implementação do Móddlo Físico\n"
   ]
  },
  {
   "cell_type": "code",
   "execution_count": null,
   "metadata": {},
   "outputs": [],
   "source": []
  }
 ],
 "metadata": {
  "language_info": {
   "name": "python"
  },
  "orig_nbformat": 4
 },
 "nbformat": 4,
 "nbformat_minor": 2
}

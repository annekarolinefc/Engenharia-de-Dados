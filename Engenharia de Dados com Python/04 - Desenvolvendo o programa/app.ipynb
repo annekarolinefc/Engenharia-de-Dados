{
 "cells": [
  {
   "cell_type": "markdown",
   "metadata": {},
   "source": [
    "Biblioteca utilizada para acessar qualquer banco postgreSQL, sendo na máquina local ou na nuvem:"
   ]
  },
  {
   "cell_type": "code",
   "execution_count": 1,
   "metadata": {},
   "outputs": [],
   "source": [
    "import psycopg2"
   ]
  },
  {
   "cell_type": "markdown",
   "metadata": {},
   "source": [
    "## Conectando ao Banco"
   ]
  },
  {
   "cell_type": "code",
   "execution_count": null,
   "metadata": {},
   "outputs": [],
   "source": [
    "host='ENDPOINT DO BANCO'\n",
    "con = psycopg2.conncec(host = host, database = 'postgres', user='postgres', password = '123456')\n",
    "con.autocommit = True \n",
    "con.close()\n",
    "print(\"Banco conectado e desconectado com sucesso!\")"
   ]
  },
  {
   "cell_type": "markdown",
   "metadata": {},
   "source": [
    "## Criando o Banco de dados"
   ]
  },
  {
   "cell_type": "code",
   "execution_count": null,
   "metadata": {},
   "outputs": [],
   "source": [
    "host='ENDPOINT DO BANCO'\n",
    "con = psycopg2.conncec(host = host, database = 'postgres', user='postgres', password = '123456')\n",
    "con.autocommit = True \n",
    "\n",
    "cur = con.cursor()\n",
    "cur.execute('CREATE DATABASE inventario')\n",
    "print(\"Banco de dados criado com sucesso\")\n",
    "con.close()"
   ]
  },
  {
   "cell_type": "markdown",
   "metadata": {},
   "source": [
    "## Criando a Tabela"
   ]
  },
  {
   "cell_type": "markdown",
   "metadata": {},
   "source": [
    "Como o banco inventario ja foi criado, o certo é criar a tabela no banco criado e não no postgres."
   ]
  },
  {
   "cell_type": "code",
   "execution_count": null,
   "metadata": {},
   "outputs": [],
   "source": [
    "host='ENDPOINT DO BANCO'\n",
    "con = psycopg2.conncec(host = host, database = 'inventario', user='postgres', password = '123456')\n",
    "con.autocommit = True \n",
    "\n",
    "cur = con.cursor()\n",
    "cur.execute('CREATE TABLE arquivos (idarquivo INT, nomearquivo VARCHAR(256));')\n",
    "con.close()"
   ]
  },
  {
   "cell_type": "markdown",
   "metadata": {},
   "source": [
    "## Ler informações do S3"
   ]
  },
  {
   "cell_type": "markdown",
   "metadata": {},
   "source": [
    "Conectar a biblioteca boto3, biblioteca utilizada para se conectar com a AWS:"
   ]
  },
  {
   "cell_type": "code",
   "execution_count": null,
   "metadata": {},
   "outputs": [],
   "source": [
    "!pip install boto3"
   ]
  },
  {
   "cell_type": "code",
   "execution_count": null,
   "metadata": {},
   "outputs": [],
   "source": [
    "import boto3 # para acesso ao s3\n",
    "import io # para leitura de arquivos\n",
    "import psycopg2 # para acesso ao Banco de Dados"
   ]
  },
  {
   "cell_type": "code",
   "execution_count": null,
   "metadata": {},
   "outputs": [],
   "source": [
    "s3 = boto3.resource(\n",
    "    service_name = 's3',\n",
    "    region_name = 'sa-east-1'\n",
    "    aws_access_key.id = 'AAAAAAAAAAAAAAAAAAAAAAAAAAAAA'\n",
    "    aws_secret_acess_key = '2dddd343ggdhduh88'\n",
    ")\n",
    "\n",
    "bucket = 'nome-do-bucket'\n",
    "prefit = 'nome-pasta/'\n",
    "\n",
    "# Percorrer o bucket e pedir para informar os arquivos que tem lá\n",
    "\n",
    "for objects_s3 in s3.Bucket(bucket).objects.filter(Prefix=prefix):\n",
    "    #se os objetos terminam com jpg or JPG\n",
    "    if objects_s3.key.endswith('jpg') or objects_s3.key.endswith('JPG'):\n",
    "        filename = objects_s3.key.split('/')[1]\n",
    "        #será exibido os nomes\n",
    "        print(filename)\n"
   ]
  },
  {
   "cell_type": "markdown",
   "metadata": {},
   "source": [
    "## Gravando o nome das imagens no Banco de Dados"
   ]
  },
  {
   "cell_type": "code",
   "execution_count": null,
   "metadata": {},
   "outputs": [],
   "source": [
    "s3 = boto3.resource(\n",
    "    service_name = 's3',\n",
    "    region_name = 'sa-east-1'\n",
    "    aws_access_key.id = 'AAAAAAAAAAAAAAAAAAAAAAAAAAAAA'\n",
    "    aws_secret_acess_key = '2dddd343ggdhduh88'\n",
    ")\n",
    "\n",
    "bucket = 'nome-do-bucket'\n",
    "prefit = 'nome-pasta/'\n",
    "id = 0\n",
    "\n",
    "# Percorrer o bucket e pedir para informar os arquivos que tem lá\n",
    "\n",
    "for objects_s3 in s3.Bucket(bucket).objects.filter(Prefix=prefix):\n",
    "    #se os objetos terminam com jpg or JPG\n",
    "    if objects_s3.key.endswith('jpg') or objects_s3.key.endswith('JPG'):\n",
    "        filename = objects_s3.key.split('/')[1]\n",
    "        #será exibido os nomes\n",
    "        print(filename)\n",
    "        id +=1\n",
    "        cur.execute(f'INSERT INTO arquivos (id_arquivo, nomearquivo ) values({str(id)}, \"{filename}\")')"
   ]
  },
  {
   "cell_type": "code",
   "execution_count": null,
   "metadata": {},
   "outputs": [],
   "source": [
    "host='ENDPOINT DO BANCO'\n",
    "con = psycopg2.conncec(host = host, database = 'inventario', user='postgres', password = '123456')\n",
    "con.autocommit = True \n",
    "\n",
    "cur = con.cursor()\n",
    "cur.execute('SELECT * FROM arquivos')\n",
    "# retorna todos os registros\n",
    "recset = cur.fetchall()\n",
    "for rec in recset:\n",
    "    print(rec)\n",
    "con.close()"
   ]
  }
 ],
 "metadata": {
  "kernelspec": {
   "display_name": "Python 3.10.5 64-bit",
   "language": "python",
   "name": "python3"
  },
  "language_info": {
   "codemirror_mode": {
    "name": "ipython",
    "version": 3
   },
   "file_extension": ".py",
   "mimetype": "text/x-python",
   "name": "python",
   "nbconvert_exporter": "python",
   "pygments_lexer": "ipython3",
   "version": "3.10.5"
  },
  "orig_nbformat": 4,
  "vscode": {
   "interpreter": {
    "hash": "d1d9262175893a3f9c089c524f593192d5b8538f6ec9ef6d8235214e3dc272a1"
   }
  }
 },
 "nbformat": 4,
 "nbformat_minor": 2
}

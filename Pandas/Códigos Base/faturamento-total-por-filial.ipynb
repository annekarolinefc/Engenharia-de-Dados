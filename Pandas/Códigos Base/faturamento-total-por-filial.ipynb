{
 "cells": [
  {
   "cell_type": "code",
   "execution_count": 4,
   "metadata": {},
   "outputs": [
    {
     "data": {
      "text/plain": [
       "City\n",
       "Mandalay     106197.6720\n",
       "Naypyitaw    110568.7065\n",
       "Yangon       106200.3705\n",
       "Name: Total, dtype: float64"
      ]
     },
     "execution_count": 4,
     "metadata": {},
     "output_type": "execute_result"
    }
   ],
   "source": [
    "import pandas as pd\n",
    "df_data = pd.read_csv(\"../datasets/supermarket_sales.csv\")\n",
    "df_data.head()\n",
    "\n",
    "df_data.groupby('City')['Total'].sum()"
   ]
  }
 ],
 "metadata": {
  "kernelspec": {
   "display_name": "Python 3.10.5 64-bit",
   "language": "python",
   "name": "python3"
  },
  "language_info": {
   "codemirror_mode": {
    "name": "ipython",
    "version": 3
   },
   "file_extension": ".py",
   "mimetype": "text/x-python",
   "name": "python",
   "nbconvert_exporter": "python",
   "pygments_lexer": "ipython3",
   "version": "3.10.5"
  },
  "orig_nbformat": 4,
  "vscode": {
   "interpreter": {
    "hash": "d1d9262175893a3f9c089c524f593192d5b8538f6ec9ef6d8235214e3dc272a1"
   }
  }
 },
 "nbformat": 4,
 "nbformat_minor": 2
}

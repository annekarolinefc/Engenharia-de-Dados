{
 "cells": [
  {
   "cell_type": "markdown",
   "metadata": {},
   "source": [
    "# Introdução à computação em nuvem"
   ]
  },
  {
   "cell_type": "markdown",
   "metadata": {},
   "source": [
    "**Computação em Nuvem:** entrega de poder computacional, armazenamento de banco de dados, aplicativos e outros recursos de TI pela internet com uma definição de **preço conforme o uso**.\n",
    "\n",
    "A computação em nuvem permite que você deixe de pensar na **infraestrutura como hardware** e passe a **pensar e a usá-la como software**."
   ]
  },
  {
   "cell_type": "markdown",
   "metadata": {},
   "source": [
    "# Vantagens da computação em nuvem"
   ]
  },
  {
   "cell_type": "markdown",
   "metadata": {},
   "source": [
    "Infraestrutura tradicional exige:\n",
    "* Equipamento Local | Despesas iniciais com compra de hardware\n",
    "* Recursos e Administração\n",
    "* Contratos\n",
    "\n",
    "Há custos de servidor, armazenamento, rede e mão de obra de TI, alem de custo de instalações, espaço, energia elétrica e refrigeração."
   ]
  },
  {
   "cell_type": "markdown",
   "metadata": {},
   "source": [
    "Computação em nuvem possui como vantagens: \n",
    "* Infraestrutura como software.\n",
    "* Pagamento conforme o uso (Troca despesar de capital por despesas variáveis) | Não há despesas iniciais.\n",
    "* Disponibilidade - alcance global.\n",
    "* Evita gastos com infraestrutura e manutenção.\n",
    "* Economia de escala - resultado de milhares de clientes agregados na nuvem.\n",
    "* Possibilidade de aumentar e reduzir a escala vertical."
   ]
  },
  {
   "cell_type": "markdown",
   "metadata": {},
   "source": [
    "### Modelos de Serviço em nuvem"
   ]
  },
  {
   "cell_type": "markdown",
   "metadata": {},
   "source": [
    "* Iaas - Infraestrutura como serviço - mais controle sobre os recursos de TI\n",
    "* Paas - Plataforma como serviço\n",
    "* Saas - Software como serviço - menos controle sobre os recursos de TI"
   ]
  },
  {
   "cell_type": "markdown",
   "metadata": {},
   "source": [
    "# Modelos de implantação de computação em nuvem"
   ]
  },
  {
   "cell_type": "markdown",
   "metadata": {},
   "source": [
    "* Nuvem\n",
    "* Híbrida\n",
    "* No local (nuvem privada)"
   ]
  }
 ],
 "metadata": {
  "kernelspec": {
   "display_name": "Python 3.10.5 64-bit",
   "language": "python",
   "name": "python3"
  },
  "language_info": {
   "name": "python",
   "version": "3.10.5"
  },
  "orig_nbformat": 4,
  "vscode": {
   "interpreter": {
    "hash": "d1d9262175893a3f9c089c524f593192d5b8538f6ec9ef6d8235214e3dc272a1"
   }
  }
 },
 "nbformat": 4,
 "nbformat_minor": 2
}

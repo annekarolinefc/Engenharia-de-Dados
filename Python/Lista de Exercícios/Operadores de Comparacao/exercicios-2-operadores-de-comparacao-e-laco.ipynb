{
 "cells": [
  {
   "cell_type": "markdown",
   "metadata": {},
   "source": [
    "<img src=\"https://asimov.academy/wp-content/uploads/2021/01/logo.png\" width=\"200\"/>\n",
    "_____________________________________________\n",
    "\n",
    "## Exercícios #2 - Operadores de comparação e laços\n"
   ]
  },
  {
   "cell_type": "markdown",
   "metadata": {},
   "source": [
    "### Exercício 1\n",
    "Faça um programa para a leitura de duas notas parciais de um aluno. O programa deve calcular a média alcançada por aluno e apresentar:\n",
    "- A mensagem \"Aprovado\", se a média alcançada for maior ou igual a 7;\n",
    "- A mensagem \"Reprovado\", se a média for menor do que 7;\n",
    "- A mensagem \"Aprovado com Distinção\", se a média for igual a 10."
   ]
  },
  {
   "cell_type": "code",
   "execution_count": null,
   "metadata": {},
   "outputs": [],
   "source": [
    "nota_1=float(input('Digite a primeira nota:'))\n",
    "nota_2=float(input('Digite a segunda nota:'))\n",
    "media = (nota_1+nota_2)/2\n",
    "\n",
    "if (media>=7):\n",
    "    print('Aprovado')\n",
    "else (media < 7):\n",
    "    print('Reprovado')\n",
    "elif (media==10):\n",
    "    print('Aprovado com Distinção')"
   ]
  },
  {
   "cell_type": "markdown",
   "metadata": {},
   "source": [
    "### Exercício 2\n",
    "Escreva um script que leia três números e mostre o maior e o menor deles."
   ]
  },
  {
   "cell_type": "code",
   "execution_count": 2,
   "metadata": {},
   "outputs": [
    {
     "name": "stdout",
     "output_type": "stream",
     "text": [
      "3.0 é o maior numero.\n"
     ]
    }
   ],
   "source": [
    "num1=float(input('Digite um número: '))\n",
    "num2=float(input('Digite um número: '))\n",
    "num3=float(input('Digite um número: '))\n",
    "\n",
    "\n",
    "if(num1>num2 and num1>num3):\n",
    "    print(f'{num1} é o maior numero.')\n",
    "    if(num2<num3):\n",
    "        print(f'{num2} é o menor número.')\n",
    "    else:\n",
    "        print(f'{num3} é o menor número.')\n",
    "elif(num2>num2 and num2>num3):\n",
    "    print(f'{num2} é o maior numero.')\n",
    "    if(num3<num1):\n",
    "        print(f'{num3} é o menor número.')\n",
    "    else:\n",
    "        print(f'{num1} é o menor número.')\n",
    "elif(num3>num2 and num3>num2):\n",
    "    print(f'{num3} é o maior numero.')\n",
    "    if(num2<num1):\n",
    "        print(f'{num2} é o menor número.')\n",
    "    else:\n",
    "        print(f'{num1} é o menor número.')"
   ]
  },
  {
   "cell_type": "markdown",
   "metadata": {},
   "source": [
    "### Exercício 3 \n",
    "Nome na vertical em escada. \n",
    "\n",
    "F<br>\n",
    "FU<br>\n",
    "FUL<br>\n",
    "FULA<br>\n",
    "FULAN<br>\n",
    "FULANO<br>"
   ]
  },
  {
   "cell_type": "code",
   "execution_count": null,
   "metadata": {},
   "outputs": [],
   "source": []
  },
  {
   "cell_type": "markdown",
   "metadata": {},
   "source": [
    "### Exercício 4\n",
    "A série de Fibonacci é formada pela seqüência 1,1,2,3,5,8,13,21,34,55,... (o próximo termo, a partir do terceiro, é sempre gerado a partir do somatório dos últimos dois). Faça um programa capaz de gerar a série até o n−ésimo termo (onde o valor n deve ser inserido pelo usuário)."
   ]
  },
  {
   "cell_type": "code",
   "execution_count": null,
   "metadata": {},
   "outputs": [],
   "source": []
  },
  {
   "cell_type": "markdown",
   "metadata": {},
   "source": [
    "### Exercício 5\n",
    "Faça um programa que leia e valide as seguintes informações:\n",
    "- Nome: maior que 3 caracteres;\n",
    "- Idade: entre 0 e 150;\n",
    "- Salário: maior que zero;\n",
    "- Sexo: 'f' ou 'm';\n",
    "- Estado Civil: 's', 'c', 'v', 'd';"
   ]
  },
  {
   "cell_type": "code",
   "execution_count": null,
   "metadata": {},
   "outputs": [],
   "source": []
  },
  {
   "cell_type": "markdown",
   "metadata": {},
   "source": [
    "### Exercício 6\n",
    "Faça um programa que peça um número inteiro e determine se ele é ou não um número primo. Um número primo é aquele que é divisível somente por ele mesmo e por 1. \n",
    "Dica: Utilize o operador aritmético `%`, que retorna o resto da divisão de dois números."
   ]
  },
  {
   "cell_type": "code",
   "execution_count": null,
   "metadata": {},
   "outputs": [],
   "source": []
  }
 ],
 "metadata": {
  "kernelspec": {
   "display_name": "Python 3.10.5 64-bit",
   "language": "python",
   "name": "python3"
  },
  "language_info": {
   "codemirror_mode": {
    "name": "ipython",
    "version": 3
   },
   "file_extension": ".py",
   "mimetype": "text/x-python",
   "name": "python",
   "nbconvert_exporter": "python",
   "pygments_lexer": "ipython3",
   "version": "3.10.5"
  },
  "vscode": {
   "interpreter": {
    "hash": "d1d9262175893a3f9c089c524f593192d5b8538f6ec9ef6d8235214e3dc272a1"
   }
  }
 },
 "nbformat": 4,
 "nbformat_minor": 4
}

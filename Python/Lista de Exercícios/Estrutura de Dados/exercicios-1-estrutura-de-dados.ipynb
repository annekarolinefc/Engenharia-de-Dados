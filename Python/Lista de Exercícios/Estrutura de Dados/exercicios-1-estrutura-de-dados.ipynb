{
 "cells": [
  {
   "cell_type": "markdown",
   "metadata": {},
   "source": [
    "<img src=\"https://asimov.academy/wp-content/uploads/2021/01/logo.png\" width=\"200\"/>\n",
    "_____________________________________________\n",
    "\n",
    "## Exercícios #1 - Estruturas de dados\n"
   ]
  },
  {
   "cell_type": "markdown",
   "metadata": {},
   "source": [
    "### Exercício 1\n",
    "Utilizando o built-in method input(), crie um programa que receba a altura e o peso de uma pessoa e imprima na tela o IMC da mesma."
   ]
  },
  {
   "cell_type": "code",
   "execution_count": 9,
   "metadata": {},
   "outputs": [
    {
     "name": "stdout",
     "output_type": "stream",
     "text": [
      "Peso: 60kg\n",
      "Altura: 1.56m\n",
      "IMC: 24.65\n"
     ]
    }
   ],
   "source": [
    "altura = input('Digite sua altura: ')\n",
    "peso = input('Digite seu peso: ')\n",
    "imc = float(peso) /(float(altura) ** 2)\n",
    "print(f'Peso: {peso}kg')\n",
    "print(f'Altura: {altura}m')\n",
    "#print(f'IMC: {imc}')\n",
    "print(\"IMC: {:.2f}\".format(imc))"
   ]
  },
  {
   "cell_type": "markdown",
   "metadata": {},
   "source": [
    "### Exercício 2 \n",
    "Escreva um programa que pergunte o nome completo do usuário e cumprimente o mesmo pelo primeiro nome."
   ]
  },
  {
   "cell_type": "code",
   "execution_count": 6,
   "metadata": {},
   "outputs": [
    {
     "name": "stdout",
     "output_type": "stream",
     "text": [
      "Anne Karoline Fortunato do Carmo\n",
      "['Anne', 'Karoline', 'Fortunato', 'do', 'Carmo']\n",
      "Olá Anne!\n"
     ]
    }
   ],
   "source": [
    "nome_completo = input('Digite seu nome completo: ')\n",
    "nome_completo_lista = nome_completo.split()\n",
    "print(nome_completo)\n",
    "print(nome_completo_lista)\n",
    "print(f'Olá {nome_completo_lista[0]}!')"
   ]
  },
  {
   "cell_type": "markdown",
   "metadata": {},
   "source": [
    "### Exercício 3\n",
    "Desenho um código que extraia o domínio de um e-mail informado."
   ]
  },
  {
   "cell_type": "code",
   "execution_count": 12,
   "metadata": {},
   "outputs": [
    {
     "name": "stdout",
     "output_type": "stream",
     "text": [
      "E-mail informado: annekarolinefc@gmail.com\n",
      "Domínio do e-mail: gmail.com\n"
     ]
    }
   ],
   "source": [
    "email=input('Digite o seu e-mail: ')\n",
    "dominio = email.split('@')[1]\n",
    "#OU -> dominio = email.split('@')[-1]\n",
    "print(f'E-mail informado: {email}')\n",
    "print(f'Domínio do e-mail: {dominio}')"
   ]
  },
  {
   "cell_type": "markdown",
   "metadata": {},
   "source": [
    "### Exercício 4 \n",
    "Faça um programa para uma loja de tintas. A pessoa informa a área em m2 que deseja pintar, e o script calculará a quantidade de latas de tinta que a pessoa deve comprar e o valor. Considere que cada litro de tinta pinta 3m2, que cada lata contém 18L e que custa R$ 80."
   ]
  },
  {
   "cell_type": "code",
   "execution_count": 16,
   "metadata": {},
   "outputs": [
    {
     "name": "stdout",
     "output_type": "stream",
     "text": [
      "Sera necessário 2 latas e o valor total gasto será de R$160 para uma área de 55.0m².\n"
     ]
    }
   ],
   "source": [
    "area = float(input('Informa a área, em m², que deseja pintar: '))\n",
    "uma_lata = 18*3 #1l é 3m² e uma lata tem 18l, então será 18*3\n",
    "preco_lata=80\n",
    "\n",
    "qtd_lata = area/uma_lata #necessario arredondar para cima\n",
    "qtd_lata = round(qtd_lata + 0.5)\n",
    "preco_total = round(qtd_lata*preco_lata, 2)\n",
    "\n",
    "print(f'Sera necessário {qtd_lata} latas e o valor total gasto será de R${preco_total} para uma área de {area}m².')"
   ]
  },
  {
   "cell_type": "markdown",
   "metadata": {},
   "source": [
    "### Exercício 5\n",
    "Faça um Programa que pergunte quanto você ganha por hora e o número de horas trabalhadas no mês. Calcule e mostre o total do seu salário no referido mês, sabendo-se que são descontados 11% para o Imposto de Renda, 8% para o INSS e 5% para o sindicato, faça um programa que nos dê:\n",
    "1. Salário bruto.\n",
    "2. Quanto pagou ao INSS.\n",
    "3. Quanto pagou ao sindicato.\n",
    "4. O salário líquido."
   ]
  },
  {
   "cell_type": "code",
   "execution_count": 20,
   "metadata": {},
   "outputs": [
    {
     "name": "stdout",
     "output_type": "stream",
     "text": [
      "Você trabalha 240.0 horas no mês e recebe R$20.0 por hora.\n",
      "Salario Bruto: R$4800.00\n",
      "Valor pago ao INSS: R$341.76\n",
      "Valor pago ao Sindicato: R$196.51\n",
      "Salario Líquido: R$3733.73\n"
     ]
    }
   ],
   "source": [
    "valor_hora = float(input('Quando você ganha por hora: '))\n",
    "num_hora = float(input('Numero de horas trabalhadas por mes: '))\n",
    "\n",
    "salario_bruto = valor_hora*num_hora\n",
    "imposto_renda = 0.11*salario_bruto\n",
    "inss = 0.08*(salario_bruto-imposto_renda)\n",
    "sindicado = 0.05*(salario_bruto-imposto_renda-inss)\n",
    "salario_liquido = salario_bruto - inss - sindicado - imposto_renda\n",
    "\n",
    "print(f'Você trabalha {num_hora} horas no mês e recebe R${round(valor_hora, 2)} por hora.')\n",
    "#print(f'Salario Bruto: R${round(salario_bruto, 2)}')\n",
    "print('Salario Bruto: R${:.2f}'.format(salario_bruto))\n",
    "print(f'Valor pago ao INSS: R${round(inss, 2)}')\n",
    "print(f'Valor pago ao Sindicato: R${round(sindicado, 2)}')\n",
    "print(f'Salario Líquido: R${round(salario_liquido, 2)}')"
   ]
  }
 ],
 "metadata": {
  "kernelspec": {
   "display_name": "Python 3.10.5 64-bit",
   "language": "python",
   "name": "python3"
  },
  "language_info": {
   "codemirror_mode": {
    "name": "ipython",
    "version": 3
   },
   "file_extension": ".py",
   "mimetype": "text/x-python",
   "name": "python",
   "nbconvert_exporter": "python",
   "pygments_lexer": "ipython3",
   "version": "3.10.5"
  },
  "vscode": {
   "interpreter": {
    "hash": "d1d9262175893a3f9c089c524f593192d5b8538f6ec9ef6d8235214e3dc272a1"
   }
  }
 },
 "nbformat": 4,
 "nbformat_minor": 4
}

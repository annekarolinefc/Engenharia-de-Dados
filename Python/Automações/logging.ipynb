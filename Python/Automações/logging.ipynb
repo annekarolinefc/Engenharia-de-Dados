{
 "cells": [
  {
   "cell_type": "code",
   "execution_count": 2,
   "metadata": {},
   "outputs": [
    {
     "ename": "FileNotFoundError",
     "evalue": "[Errno 2] No such file or directory: 'c:\\\\Users\\\\Anne Karoline\\\\OneDrive\\\\Área de Trabalho\\\\github\\\\Engenharia-de-Dados\\\\Python\\\\Automações\\\\Python\\\\Automações\\\\app.log'",
     "output_type": "error",
     "traceback": [
      "\u001b[1;31m---------------------------------------------------------------------------\u001b[0m",
      "\u001b[1;31mFileNotFoundError\u001b[0m                         Traceback (most recent call last)",
      "\u001b[1;32mc:\\Users\\Anne Karoline\\OneDrive\\Área de Trabalho\\github\\Engenharia-de-Dados\\Python\\Automações\\logging.ipynb Célula: 1\u001b[0m in \u001b[0;36m<cell line: 12>\u001b[1;34m()\u001b[0m\n\u001b[0;32m      <a href='vscode-notebook-cell:/c%3A/Users/Anne%20Karoline/OneDrive/%C3%81rea%20de%20Trabalho/github/Engenharia-de-Dados/Python/Automa%C3%A7%C3%B5es/logging.ipynb#W0sZmlsZQ%3D%3D?line=8'>9</a>\u001b[0m \u001b[39mimport\u001b[39;00m \u001b[39mlogging\u001b[39;00m \n\u001b[0;32m     <a href='vscode-notebook-cell:/c%3A/Users/Anne%20Karoline/OneDrive/%C3%81rea%20de%20Trabalho/github/Engenharia-de-Dados/Python/Automa%C3%A7%C3%B5es/logging.ipynb#W0sZmlsZQ%3D%3D?line=9'>10</a>\u001b[0m LOG_FILENAME \u001b[39m=\u001b[39m \u001b[39m\"\u001b[39m\u001b[39m./Python/Automações/app.log\u001b[39m\u001b[39m\"\u001b[39m\n\u001b[1;32m---> <a href='vscode-notebook-cell:/c%3A/Users/Anne%20Karoline/OneDrive/%C3%81rea%20de%20Trabalho/github/Engenharia-de-Dados/Python/Automa%C3%A7%C3%B5es/logging.ipynb#W0sZmlsZQ%3D%3D?line=11'>12</a>\u001b[0m logging\u001b[39m.\u001b[39;49mbasicConfig(filename\u001b[39m=\u001b[39;49mLOG_FILENAME,\n\u001b[0;32m     <a href='vscode-notebook-cell:/c%3A/Users/Anne%20Karoline/OneDrive/%C3%81rea%20de%20Trabalho/github/Engenharia-de-Dados/Python/Automa%C3%A7%C3%B5es/logging.ipynb#W0sZmlsZQ%3D%3D?line=12'>13</a>\u001b[0m                     filemode\u001b[39m=\u001b[39;49m\u001b[39m'\u001b[39;49m\u001b[39mw\u001b[39;49m\u001b[39m'\u001b[39;49m,\n\u001b[0;32m     <a href='vscode-notebook-cell:/c%3A/Users/Anne%20Karoline/OneDrive/%C3%81rea%20de%20Trabalho/github/Engenharia-de-Dados/Python/Automa%C3%A7%C3%B5es/logging.ipynb#W0sZmlsZQ%3D%3D?line=13'>14</a>\u001b[0m                     encoding\u001b[39m=\u001b[39;49m\u001b[39m'\u001b[39;49m\u001b[39mutf-8\u001b[39;49m\u001b[39m'\u001b[39;49m, \n\u001b[0;32m     <a href='vscode-notebook-cell:/c%3A/Users/Anne%20Karoline/OneDrive/%C3%81rea%20de%20Trabalho/github/Engenharia-de-Dados/Python/Automa%C3%A7%C3%B5es/logging.ipynb#W0sZmlsZQ%3D%3D?line=14'>15</a>\u001b[0m                     level \u001b[39m=\u001b[39;49m logging\u001b[39m.\u001b[39;49mDEBUG,\n\u001b[0;32m     <a href='vscode-notebook-cell:/c%3A/Users/Anne%20Karoline/OneDrive/%C3%81rea%20de%20Trabalho/github/Engenharia-de-Dados/Python/Automa%C3%A7%C3%B5es/logging.ipynb#W0sZmlsZQ%3D%3D?line=15'>16</a>\u001b[0m                     \u001b[39mformat\u001b[39;49m \u001b[39m=\u001b[39;49m \u001b[39m\"\u001b[39;49m\u001b[39m%(asctime)s\u001b[39;49;00m\u001b[39m :: \u001b[39;49m\u001b[39m%(levelno)s\u001b[39;49;00m\u001b[39m :: \u001b[39;49m\u001b[39m%(lineno)d\u001b[39;49;00m\u001b[39m\"\u001b[39;49m)\n\u001b[0;32m     <a href='vscode-notebook-cell:/c%3A/Users/Anne%20Karoline/OneDrive/%C3%81rea%20de%20Trabalho/github/Engenharia-de-Dados/Python/Automa%C3%A7%C3%B5es/logging.ipynb#W0sZmlsZQ%3D%3D?line=17'>18</a>\u001b[0m logging \u001b[39m=\u001b[39m logging\u001b[39m.\u001b[39mgetLogger()\n\u001b[0;32m     <a href='vscode-notebook-cell:/c%3A/Users/Anne%20Karoline/OneDrive/%C3%81rea%20de%20Trabalho/github/Engenharia-de-Dados/Python/Automa%C3%A7%C3%B5es/logging.ipynb#W0sZmlsZQ%3D%3D?line=18'>19</a>\u001b[0m \u001b[39m# %%\u001b[39;00m\n",
      "File \u001b[1;32mc:\\Users\\Anne Karoline\\AppData\\Local\\Programs\\Python\\Python310\\lib\\logging\\__init__.py:2040\u001b[0m, in \u001b[0;36mbasicConfig\u001b[1;34m(**kwargs)\u001b[0m\n\u001b[0;32m   2038\u001b[0m     \u001b[39melse\u001b[39;00m:\n\u001b[0;32m   2039\u001b[0m         encoding \u001b[39m=\u001b[39m io\u001b[39m.\u001b[39mtext_encoding(encoding)\n\u001b[1;32m-> 2040\u001b[0m     h \u001b[39m=\u001b[39m FileHandler(filename, mode,\n\u001b[0;32m   2041\u001b[0m                     encoding\u001b[39m=\u001b[39;49mencoding, errors\u001b[39m=\u001b[39;49merrors)\n\u001b[0;32m   2042\u001b[0m \u001b[39melse\u001b[39;00m:\n\u001b[0;32m   2043\u001b[0m     stream \u001b[39m=\u001b[39m kwargs\u001b[39m.\u001b[39mpop(\u001b[39m\"\u001b[39m\u001b[39mstream\u001b[39m\u001b[39m\"\u001b[39m, \u001b[39mNone\u001b[39;00m)\n",
      "File \u001b[1;32mc:\\Users\\Anne Karoline\\AppData\\Local\\Programs\\Python\\Python310\\lib\\logging\\__init__.py:1169\u001b[0m, in \u001b[0;36mFileHandler.__init__\u001b[1;34m(self, filename, mode, encoding, delay, errors)\u001b[0m\n\u001b[0;32m   1167\u001b[0m     \u001b[39mself\u001b[39m\u001b[39m.\u001b[39mstream \u001b[39m=\u001b[39m \u001b[39mNone\u001b[39;00m\n\u001b[0;32m   1168\u001b[0m \u001b[39melse\u001b[39;00m:\n\u001b[1;32m-> 1169\u001b[0m     StreamHandler\u001b[39m.\u001b[39m\u001b[39m__init__\u001b[39m(\u001b[39mself\u001b[39m, \u001b[39mself\u001b[39;49m\u001b[39m.\u001b[39;49m_open())\n",
      "File \u001b[1;32mc:\\Users\\Anne Karoline\\AppData\\Local\\Programs\\Python\\Python310\\lib\\logging\\__init__.py:1201\u001b[0m, in \u001b[0;36mFileHandler._open\u001b[1;34m(self)\u001b[0m\n\u001b[0;32m   1196\u001b[0m \u001b[39m\"\"\"\u001b[39;00m\n\u001b[0;32m   1197\u001b[0m \u001b[39mOpen the current base file with the (original) mode and encoding.\u001b[39;00m\n\u001b[0;32m   1198\u001b[0m \u001b[39mReturn the resulting stream.\u001b[39;00m\n\u001b[0;32m   1199\u001b[0m \u001b[39m\"\"\"\u001b[39;00m\n\u001b[0;32m   1200\u001b[0m open_func \u001b[39m=\u001b[39m \u001b[39mself\u001b[39m\u001b[39m.\u001b[39m_builtin_open\n\u001b[1;32m-> 1201\u001b[0m \u001b[39mreturn\u001b[39;00m open_func(\u001b[39mself\u001b[39;49m\u001b[39m.\u001b[39;49mbaseFilename, \u001b[39mself\u001b[39;49m\u001b[39m.\u001b[39;49mmode,\n\u001b[0;32m   1202\u001b[0m                  encoding\u001b[39m=\u001b[39;49m\u001b[39mself\u001b[39;49m\u001b[39m.\u001b[39;49mencoding, errors\u001b[39m=\u001b[39;49m\u001b[39mself\u001b[39;49m\u001b[39m.\u001b[39;49merrors)\n",
      "\u001b[1;31mFileNotFoundError\u001b[0m: [Errno 2] No such file or directory: 'c:\\\\Users\\\\Anne Karoline\\\\OneDrive\\\\Área de Trabalho\\\\github\\\\Engenharia-de-Dados\\\\Python\\\\Automações\\\\Python\\\\Automações\\\\app.log'"
     ]
    }
   ],
   "source": [
    "# Permite ir rastreando todo o funcionamento do programa\n",
    "# Permite encontrar erros, auxiliar tomada de decisão\n",
    "\n",
    "# cria arquivos txt e vai escrevendo no arquivo tudo e qualquer coisa que a gente quiser, da forma qued a gente quiser. \n",
    "# Lemos o registro e entendemos o que aconteceu\n",
    "\n",
    "# %%\n",
    "# Biblioteca nativa do Python - não é necessário importa-la\n",
    "import logging \n",
    "LOG_FILENAME = \"./Python/Automações/app.log\"\n",
    "\n",
    "logging.basicConfig(filename=LOG_FILENAME,\n",
    "                    filemode='w',\n",
    "                    encoding='utf-8', \n",
    "                    level = logging.DEBUG,\n",
    "                    format = \"%(asctime)s :: %(levelno)s :: %(lineno)d\")\n",
    "\n",
    "logging = logging.getLogger()\n",
    "# %%\n",
    "logging.debug('Essa mensagem irá para o arquivo de log')\n",
    "logging.warning('Imprime essa mensagem no console')\n",
    "logging.info('Nao imprime nada no console')\n",
    "logging.error(\"mensagem de erro\")"
   ]
  }
 ],
 "metadata": {
  "kernelspec": {
   "display_name": "Python 3.10.5 64-bit",
   "language": "python",
   "name": "python3"
  },
  "language_info": {
   "codemirror_mode": {
    "name": "ipython",
    "version": 3
   },
   "file_extension": ".py",
   "mimetype": "text/x-python",
   "name": "python",
   "nbconvert_exporter": "python",
   "pygments_lexer": "ipython3",
   "version": "3.10.5"
  },
  "orig_nbformat": 4,
  "vscode": {
   "interpreter": {
    "hash": "d1d9262175893a3f9c089c524f593192d5b8538f6ec9ef6d8235214e3dc272a1"
   }
  }
 },
 "nbformat": 4,
 "nbformat_minor": 2
}
